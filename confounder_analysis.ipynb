{
 "cells": [
  {
   "cell_type": "code",
   "execution_count": 16,
   "id": "3a006490",
   "metadata": {},
   "outputs": [],
   "source": [
    "from dowhy import CausalModel\n",
    "import pandas as pd\n",
    "import itertools\n",
    "import warnings\n",
    "import matplotlib.pyplot as plt"
   ]
  },
  {
   "cell_type": "code",
   "execution_count": 4,
   "id": "e4f7cd98",
   "metadata": {},
   "outputs": [
    {
     "name": "stdout",
     "output_type": "stream",
     "text": [
      "Unnamed: 0            int64\n",
      "gameid               object\n",
      "date                 object\n",
      "league               object\n",
      "patch               float64\n",
      "playoffs              int64\n",
      "gamelength            int64\n",
      "days_since_patch      int64\n",
      "golddiffat15        float64\n",
      "recent_patch          int64\n",
      "teamid               object\n",
      "result                int64\n",
      "win_prob            float64\n",
      "large_lead            int64\n",
      "underdog               bool\n",
      "elo                 float64\n",
      "kills               float64\n",
      "winstreak           float64\n",
      "visionscore         float64\n",
      "side                 object\n",
      "side_adv              int64\n",
      "dtype: object\n"
     ]
    }
   ],
   "source": [
    "df = pd.read_csv('./out/long_df.csv')\n",
    "print(df.dtypes)"
   ]
  },
  {
   "cell_type": "code",
   "execution_count": 6,
   "id": "f625dbb0",
   "metadata": {},
   "outputs": [],
   "source": [
    "#We want to iterate over all possible confounders and check for the causal effect\n",
    "#First we use domain knowledge to pinpoint a list of posibble confounder/covariats\n",
    "possible_confounder = ['playoffs', 'gamelength', 'win_prob', 'winstreak', 'side_adv']"
   ]
  },
  {
   "cell_type": "code",
   "execution_count": 12,
   "id": "418af407",
   "metadata": {},
   "outputs": [],
   "source": [
    "def calculate_causal_effect(df, treatment, outcome, confounders):\n",
    "    model = CausalModel(\n",
    "        data=df,\n",
    "        treatment=treatment,\n",
    "        outcome=outcome,\n",
    "        common_causes=confounders\n",
    "    )\n",
    "    \n",
    "    identified_estimand = model.identify_effect()\n",
    "\n",
    "    estimate = model.estimate_effect(\n",
    "        identified_estimand,\n",
    "        method_name='backdoor.linear_regression'\n",
    "    )\n",
    "    return estimate.value"
   ]
  },
  {
   "cell_type": "code",
   "execution_count": 15,
   "id": "e5899322",
   "metadata": {},
   "outputs": [
    {
     "name": "stdout",
     "output_type": "stream",
     "text": [
      "The maximum causal effect was witnessed with confounders: ('playoffs',) and is 0.00013528277601465577\n",
      "Average causal effect: 0.00013463844132677853\n"
     ]
    }
   ],
   "source": [
    "#Now we iterate over possible combinations \n",
    "treatment = 'golddiffat15'\n",
    "outcome = 'result'\n",
    "effect_dict = {}\n",
    "\n",
    "warnings.simplefilter(action='ignore', category=FutureWarning)\n",
    "\n",
    "#Iterate over combinations of all lengths \n",
    "for r in range(1, len(possible_confounder)+1):\n",
    "    for combo in itertools.combinations(possible_confounder, r):\n",
    "        effect_dict[combo] = calculate_causal_effect(df, treatment, outcome, list(combo))\n",
    "\n",
    "#Now find the max causal effect\n",
    "max_effect_combo = max(effect_dict, key=effect_dict.get)\n",
    "max_effect = effect_dict[max_effect_combo]\n",
    "\n",
    "print(f'The maximum causal effect was witnessed with confounders: {max_effect_combo} and is {max_effect}')\n",
    "avg_effect = sum(effect_dict.values()) / len(effect_dict)\n",
    "print(f\"Average causal effect: {avg_effect}\")"
   ]
  }
 ],
 "metadata": {
  "kernelspec": {
   "display_name": "base",
   "language": "python",
   "name": "python3"
  },
  "language_info": {
   "codemirror_mode": {
    "name": "ipython",
    "version": 3
   },
   "file_extension": ".py",
   "mimetype": "text/x-python",
   "name": "python",
   "nbconvert_exporter": "python",
   "pygments_lexer": "ipython3",
   "version": "3.12.2"
  }
 },
 "nbformat": 4,
 "nbformat_minor": 5
}
