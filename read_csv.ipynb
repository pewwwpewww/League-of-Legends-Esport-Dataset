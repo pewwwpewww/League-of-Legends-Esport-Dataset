{
 "cells": [
  {
   "cell_type": "code",
   "execution_count": 3,
   "id": "ef5d659f",
   "metadata": {},
   "outputs": [],
   "source": [
    "import pandas as pd"
   ]
  },
  {
   "cell_type": "markdown",
   "id": "197394ad",
   "metadata": {},
   "source": [
    "shouldnt I put the teamkills into the thing ? "
   ]
  },
  {
   "cell_type": "code",
   "execution_count": 4,
   "id": "ea4baa43",
   "metadata": {},
   "outputs": [
    {
     "name": "stdout",
     "output_type": "stream",
     "text": [
      "Amount of unique games: 74105\n",
      "--------------------------------------------------\n",
      "Types of values in each dataframe:\n",
      "Game_metadata:\n",
      "gameid         object\n",
      "date           object\n",
      "league         object\n",
      "playoffs        int64\n",
      "patch         float64\n",
      "gamelength      int64\n",
      "dtype: object\n",
      "\n",
      "game_player_stats\n",
      "gameid                object\n",
      "playerid              object\n",
      "teamid                object\n",
      "side                  object\n",
      "position              object\n",
      "champion              object\n",
      "result                 int64\n",
      "kills                  int64\n",
      "deaths                 int64\n",
      "assists                int64\n",
      "damagetochampions    float64\n",
      "visionscore          float64\n",
      "earnedgold           float64\n",
      "total cs             float64\n",
      "golddiffat15         float64\n",
      "csdiffat15           float64\n",
      "xpdiffat15           float64\n",
      "dtype: object\n",
      "--------------------------------------------------\n"
     ]
    }
   ],
   "source": [
    "game_metadata = pd.read_csv('./out/game_metadata.csv')\n",
    "game_player_stats = pd.read_csv('./out/game_player_stats.csv')\n",
    "\n",
    "unique_games = game_metadata['gameid'].size\n",
    "print(f'Amount of unique games: {unique_games}')\n",
    "print(50*'-')\n",
    "\n",
    "print('Types of values in each dataframe:')\n",
    "print('Game_metadata:')\n",
    "print(game_metadata.dtypes)\n",
    "\n",
    "print('')\n",
    "\n",
    "print('game_player_stats')\n",
    "print(game_player_stats.dtypes)\n",
    "print(50*'-')"
   ]
  },
  {
   "cell_type": "code",
   "execution_count": 18,
   "id": "6cca4ced",
   "metadata": {},
   "outputs": [
    {
     "name": "stdout",
     "output_type": "stream",
     "text": [
      "gameid                object\n",
      "playerid              object\n",
      "teamid                object\n",
      "side                  object\n",
      "position              object\n",
      "champion              object\n",
      "result                 int64\n",
      "kills                  int64\n",
      "deaths                 int64\n",
      "assists                int64\n",
      "damagetochampions    float64\n",
      "visionscore          float64\n",
      "earnedgold           float64\n",
      "total cs             float64\n",
      "golddiffat15         float64\n",
      "csdiffat15           float64\n",
      "xpdiffat15           float64\n",
      "teamkills              int64\n",
      "teamvisionscore      float64\n",
      "goldleadat15           int32\n",
      "csleadat15             int32\n",
      "teamdeaths             int64\n",
      "dtype: object\n"
     ]
    }
   ],
   "source": [
    "game_player_stats['teamkills'] = game_player_stats.groupby(['gameid', 'side'])['kills'].transform('sum')\n",
    "game_player_stats['teamvisionscore'] = game_player_stats.groupby(['gameid', 'side'])['visionscore'].transform('sum')\n",
    "game_player_stats['teamdeaths'] = game_player_stats.groupby(['gameid', 'side'])['deaths'].transform('sum')\n",
    "print(game_player_stats.dtypes)"
   ]
  },
  {
   "cell_type": "code",
   "execution_count": 6,
   "id": "750e7803",
   "metadata": {},
   "outputs": [],
   "source": [
    "#Create a function that checks if there are decimal numbers\n",
    "def has_decimal(arr): \n",
    "    return (arr % 1 != 0).any()"
   ]
  },
  {
   "cell_type": "code",
   "execution_count": 7,
   "id": "27aa4c6a",
   "metadata": {},
   "outputs": [
    {
     "name": "stdout",
     "output_type": "stream",
     "text": [
      "False\n",
      "False\n",
      "False\n",
      "False\n",
      "False\n",
      "False\n",
      "False\n"
     ]
    }
   ],
   "source": [
    "#Check for decimal numbers\n",
    "print(has_decimal(game_player_stats['damagetochampions']))\n",
    "print(has_decimal(game_player_stats['visionscore']))\n",
    "print(has_decimal(game_player_stats['earnedgold']))\n",
    "print(has_decimal(game_player_stats['total cs']))\n",
    "print(has_decimal(game_player_stats['golddiffat15']))\n",
    "print(has_decimal(game_player_stats['csdiffat15']))\n",
    "print(has_decimal(game_player_stats['xpdiffat15']))\n"
   ]
  },
  {
   "cell_type": "code",
   "execution_count": 8,
   "id": "2addc754",
   "metadata": {},
   "outputs": [
    {
     "name": "stdout",
     "output_type": "stream",
     "text": [
      "g:\\Users\\Johannes\\anaconda3\\python.exe\n"
     ]
    }
   ],
   "source": [
    "import sys\n",
    "print(sys.executable)"
   ]
  },
  {
   "cell_type": "markdown",
   "id": "d5e153dc",
   "metadata": {},
   "source": [
    "We want to estimate whether a gold lead at 15 has a causal association with the result \n",
    "For that we first need to transform so that we have the goldlead instead of golddiffat15\n",
    "\n",
    "For that we define goldleadat15 as 1 if the golddiffat15 is >= 1000 gold and 0 otherwise "
   ]
  },
  {
   "cell_type": "code",
   "execution_count": null,
   "id": "12a634a2",
   "metadata": {},
   "outputs": [
    {
     "name": "stdout",
     "output_type": "stream",
     "text": [
      "gameid                object\n",
      "playerid              object\n",
      "teamid                object\n",
      "side                  object\n",
      "position              object\n",
      "champion              object\n",
      "result                 int64\n",
      "kills                  int64\n",
      "deaths                 int64\n",
      "assists                int64\n",
      "damagetochampions    float64\n",
      "visionscore          float64\n",
      "earnedgold           float64\n",
      "total cs             float64\n",
      "golddiffat15         float64\n",
      "csdiffat15           float64\n",
      "xpdiffat15           float64\n",
      "teamkills              int64\n",
      "teamvisionscore      float64\n",
      "goldleadat15           int32\n",
      "csleadat15             int32\n",
      "teamdeaths             int64\n",
      "propensity_score     float64\n",
      "dtype: object\n"
     ]
    }
   ],
   "source": [
    "game_player_stats['goldleadat15'] = (game_player_stats['golddiffat15'] > 4000).astype(int)\n",
    "game_player_stats['csleadat15'] = (game_player_stats['csdiffat15'] > 10).astype(int)\n",
    "\n",
    "print(game_player_stats.dtypes)"
   ]
  },
  {
   "cell_type": "markdown",
   "id": "0695edda",
   "metadata": {},
   "source": [
    "we model the scm as seen on the Model notebook (ipad)"
   ]
  },
  {
   "cell_type": "code",
   "execution_count": 41,
   "id": "065c650f",
   "metadata": {},
   "outputs": [
    {
     "name": "stdout",
     "output_type": "stream",
     "text": [
      "0.005772889818500776\n"
     ]
    }
   ],
   "source": [
    "from dowhy import CausalModel\n",
    "\n",
    "#First we create the model for the causal graph\n",
    "causal_graph = ''' \n",
    "digraph {\n",
    "    teamkills -> goldleadat15;\n",
    "    teamkills -> result;\n",
    "    csleadat15 -> goldleadat15;\n",
    "    csleadat15 -> result;\n",
    "    teamvisionscore -> teamkills;\n",
    "    goldleadat15 -> result;\n",
    "}\n",
    "'''\n",
    "\n",
    "model = CausalModel(\n",
    "    data=game_player_stats,\n",
    "    treatment='goldleadat15',\n",
    "    outcome='result',\n",
    "    graph=causal_graph\n",
    ")\n",
    "\n",
    "#We then identify the estimand here the graph is used thus we should end up with\n",
    "#E_W * E[Y|t, W] where Y is the result and t the treatment here goldleadat15 W is a sufficient blocking set blocking \n",
    "#backdoor paths here that would be teamkills, teamdeaths and csleadat15\n",
    "\n",
    "identified_estimand = model.identify_effect()\n",
    "\n",
    "#Now we estimate our identified estimand \n",
    "\n",
    "estimate = model.estimate_effect(\n",
    "    identified_estimand,\n",
    "    method_name='backdoor.propensity_score_matching'\n",
    ")\n",
    "print(estimate.value)"
   ]
  },
  {
   "cell_type": "code",
   "execution_count": 15,
   "id": "1bbe33c3",
   "metadata": {},
   "outputs": [
    {
     "name": "stderr",
     "output_type": "stream",
     "text": [
      "g:\\Users\\Johannes\\anaconda3\\Lib\\site-packages\\dowhy\\causal_estimators\\regression_estimator.py:131: FutureWarning: Series.__getitem__ treating keys as positions is deprecated. In a future version, integer keys will always be treated as labels (consistent with DataFrame behavior). To access a value by position, use `ser.iloc[pos]`\n",
      "  intercept_parameter = self.model.params[0]\n"
     ]
    },
    {
     "name": "stdout",
     "output_type": "stream",
     "text": [
      "0.01174856727960183\n"
     ]
    },
    {
     "name": "stderr",
     "output_type": "stream",
     "text": [
      "g:\\Users\\Johannes\\anaconda3\\Lib\\site-packages\\dowhy\\causal_estimators\\regression_estimator.py:131: FutureWarning: Series.__getitem__ treating keys as positions is deprecated. In a future version, integer keys will always be treated as labels (consistent with DataFrame behavior). To access a value by position, use `ser.iloc[pos]`\n",
      "  intercept_parameter = self.model.params[0]\n",
      "g:\\Users\\Johannes\\anaconda3\\Lib\\site-packages\\dowhy\\causal_estimators\\regression_estimator.py:131: FutureWarning: Series.__getitem__ treating keys as positions is deprecated. In a future version, integer keys will always be treated as labels (consistent with DataFrame behavior). To access a value by position, use `ser.iloc[pos]`\n",
      "  intercept_parameter = self.model.params[0]\n",
      "g:\\Users\\Johannes\\anaconda3\\Lib\\site-packages\\dowhy\\causal_estimators\\regression_estimator.py:131: FutureWarning: Series.__getitem__ treating keys as positions is deprecated. In a future version, integer keys will always be treated as labels (consistent with DataFrame behavior). To access a value by position, use `ser.iloc[pos]`\n",
      "  intercept_parameter = self.model.params[0]\n",
      "g:\\Users\\Johannes\\anaconda3\\Lib\\site-packages\\dowhy\\causal_estimators\\regression_estimator.py:131: FutureWarning: Series.__getitem__ treating keys as positions is deprecated. In a future version, integer keys will always be treated as labels (consistent with DataFrame behavior). To access a value by position, use `ser.iloc[pos]`\n",
      "  intercept_parameter = self.model.params[0]\n",
      "g:\\Users\\Johannes\\anaconda3\\Lib\\site-packages\\dowhy\\causal_estimators\\regression_estimator.py:131: FutureWarning: Series.__getitem__ treating keys as positions is deprecated. In a future version, integer keys will always be treated as labels (consistent with DataFrame behavior). To access a value by position, use `ser.iloc[pos]`\n",
      "  intercept_parameter = self.model.params[0]\n",
      "g:\\Users\\Johannes\\anaconda3\\Lib\\site-packages\\dowhy\\causal_estimators\\regression_estimator.py:131: FutureWarning: Series.__getitem__ treating keys as positions is deprecated. In a future version, integer keys will always be treated as labels (consistent with DataFrame behavior). To access a value by position, use `ser.iloc[pos]`\n",
      "  intercept_parameter = self.model.params[0]\n",
      "g:\\Users\\Johannes\\anaconda3\\Lib\\site-packages\\dowhy\\causal_estimators\\regression_estimator.py:131: FutureWarning: Series.__getitem__ treating keys as positions is deprecated. In a future version, integer keys will always be treated as labels (consistent with DataFrame behavior). To access a value by position, use `ser.iloc[pos]`\n",
      "  intercept_parameter = self.model.params[0]\n",
      "g:\\Users\\Johannes\\anaconda3\\Lib\\site-packages\\dowhy\\causal_estimators\\regression_estimator.py:131: FutureWarning: Series.__getitem__ treating keys as positions is deprecated. In a future version, integer keys will always be treated as labels (consistent with DataFrame behavior). To access a value by position, use `ser.iloc[pos]`\n",
      "  intercept_parameter = self.model.params[0]\n",
      "g:\\Users\\Johannes\\anaconda3\\Lib\\site-packages\\dowhy\\causal_estimators\\regression_estimator.py:131: FutureWarning: Series.__getitem__ treating keys as positions is deprecated. In a future version, integer keys will always be treated as labels (consistent with DataFrame behavior). To access a value by position, use `ser.iloc[pos]`\n",
      "  intercept_parameter = self.model.params[0]\n",
      "g:\\Users\\Johannes\\anaconda3\\Lib\\site-packages\\dowhy\\causal_estimators\\regression_estimator.py:131: FutureWarning: Series.__getitem__ treating keys as positions is deprecated. In a future version, integer keys will always be treated as labels (consistent with DataFrame behavior). To access a value by position, use `ser.iloc[pos]`\n",
      "  intercept_parameter = self.model.params[0]\n",
      "g:\\Users\\Johannes\\anaconda3\\Lib\\site-packages\\dowhy\\causal_estimators\\regression_estimator.py:131: FutureWarning: Series.__getitem__ treating keys as positions is deprecated. In a future version, integer keys will always be treated as labels (consistent with DataFrame behavior). To access a value by position, use `ser.iloc[pos]`\n",
      "  intercept_parameter = self.model.params[0]\n",
      "g:\\Users\\Johannes\\anaconda3\\Lib\\site-packages\\dowhy\\causal_estimators\\regression_estimator.py:131: FutureWarning: Series.__getitem__ treating keys as positions is deprecated. In a future version, integer keys will always be treated as labels (consistent with DataFrame behavior). To access a value by position, use `ser.iloc[pos]`\n",
      "  intercept_parameter = self.model.params[0]\n",
      "g:\\Users\\Johannes\\anaconda3\\Lib\\site-packages\\dowhy\\causal_estimators\\regression_estimator.py:131: FutureWarning: Series.__getitem__ treating keys as positions is deprecated. In a future version, integer keys will always be treated as labels (consistent with DataFrame behavior). To access a value by position, use `ser.iloc[pos]`\n",
      "  intercept_parameter = self.model.params[0]\n",
      "g:\\Users\\Johannes\\anaconda3\\Lib\\site-packages\\dowhy\\causal_estimators\\regression_estimator.py:131: FutureWarning: Series.__getitem__ treating keys as positions is deprecated. In a future version, integer keys will always be treated as labels (consistent with DataFrame behavior). To access a value by position, use `ser.iloc[pos]`\n",
      "  intercept_parameter = self.model.params[0]\n",
      "g:\\Users\\Johannes\\anaconda3\\Lib\\site-packages\\dowhy\\causal_estimators\\regression_estimator.py:131: FutureWarning: Series.__getitem__ treating keys as positions is deprecated. In a future version, integer keys will always be treated as labels (consistent with DataFrame behavior). To access a value by position, use `ser.iloc[pos]`\n",
      "  intercept_parameter = self.model.params[0]\n",
      "g:\\Users\\Johannes\\anaconda3\\Lib\\site-packages\\dowhy\\causal_estimators\\regression_estimator.py:131: FutureWarning: Series.__getitem__ treating keys as positions is deprecated. In a future version, integer keys will always be treated as labels (consistent with DataFrame behavior). To access a value by position, use `ser.iloc[pos]`\n",
      "  intercept_parameter = self.model.params[0]\n",
      "g:\\Users\\Johannes\\anaconda3\\Lib\\site-packages\\dowhy\\causal_estimators\\regression_estimator.py:131: FutureWarning: Series.__getitem__ treating keys as positions is deprecated. In a future version, integer keys will always be treated as labels (consistent with DataFrame behavior). To access a value by position, use `ser.iloc[pos]`\n",
      "  intercept_parameter = self.model.params[0]\n",
      "g:\\Users\\Johannes\\anaconda3\\Lib\\site-packages\\dowhy\\causal_estimators\\regression_estimator.py:131: FutureWarning: Series.__getitem__ treating keys as positions is deprecated. In a future version, integer keys will always be treated as labels (consistent with DataFrame behavior). To access a value by position, use `ser.iloc[pos]`\n",
      "  intercept_parameter = self.model.params[0]\n",
      "g:\\Users\\Johannes\\anaconda3\\Lib\\site-packages\\dowhy\\causal_estimators\\regression_estimator.py:131: FutureWarning: Series.__getitem__ treating keys as positions is deprecated. In a future version, integer keys will always be treated as labels (consistent with DataFrame behavior). To access a value by position, use `ser.iloc[pos]`\n",
      "  intercept_parameter = self.model.params[0]\n"
     ]
    },
    {
     "name": "stdout",
     "output_type": "stream",
     "text": [
      "Refute: Add a random common cause\n",
      "Estimated effect:0.01174856727960183\n",
      "New effect:0.011748557460449139\n",
      "p value:0.46141033929369013\n",
      "\n"
     ]
    },
    {
     "name": "stderr",
     "output_type": "stream",
     "text": [
      "g:\\Users\\Johannes\\anaconda3\\Lib\\site-packages\\dowhy\\causal_estimators\\regression_estimator.py:131: FutureWarning: Series.__getitem__ treating keys as positions is deprecated. In a future version, integer keys will always be treated as labels (consistent with DataFrame behavior). To access a value by position, use `ser.iloc[pos]`\n",
      "  intercept_parameter = self.model.params[0]\n"
     ]
    }
   ],
   "source": [
    "from dowhy import CausalModel\n",
    "\n",
    "#Do a test whether there is a causal impact of tvs on team kills\n",
    "\n",
    "causal_graph = ''' \n",
    "digraph {\n",
    "    teamvisionscore -> teamkills;\n",
    "    csdiffat15 -> teamvisionscore;\n",
    "    csdiffat15 -> teamkills;\n",
    "    golddiffat15 -> teamvisionscore;\n",
    "    golddiffat15 -> teamkills;\n",
    "}\n",
    "'''\n",
    "\n",
    "model = CausalModel(\n",
    "    data = game_player_stats,\n",
    "    treatment = 'teamvisionscore',\n",
    "    outcome = 'teamkills',\n",
    "    graph = causal_graph\n",
    ")\n",
    "\n",
    "identified_estimand = model.identify_effect()\n",
    "#print(identified_estimand)\n",
    "estimate = model.estimate_effect(\n",
    "    identified_estimand,\n",
    "    method_name='backdoor.linear_regression'\n",
    ")\n",
    "print(estimate.value)\n",
    "\n",
    "refutation = model.refute_estimate(\n",
    "    identified_estimand,\n",
    "    estimate,\n",
    "    method_name = 'random_common_cause',\n",
    "    num_simulations = 20\n",
    ")\n",
    "print(refutation)"
   ]
  },
  {
   "cell_type": "markdown",
   "id": "66c1c540",
   "metadata": {},
   "source": [
    "outcome : teamkills\n",
    "treatment: visionscore\n",
    "\n",
    "graph: \n",
    "tvs -> team_kills\n",
    "csdiffat15 -> tvs\n",
    "golddiffat15 -> tvs\n"
   ]
  }
 ],
 "metadata": {
  "kernelspec": {
   "display_name": "base",
   "language": "python",
   "name": "python3"
  },
  "language_info": {
   "codemirror_mode": {
    "name": "ipython",
    "version": 3
   },
   "file_extension": ".py",
   "mimetype": "text/x-python",
   "name": "python",
   "nbconvert_exporter": "python",
   "pygments_lexer": "ipython3",
   "version": "3.12.7"
  }
 },
 "nbformat": 4,
 "nbformat_minor": 5
}
