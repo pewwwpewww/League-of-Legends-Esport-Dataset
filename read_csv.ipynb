{
 "cells": [
  {
   "cell_type": "code",
   "execution_count": 2,
   "id": "ef5d659f",
   "metadata": {},
   "outputs": [],
   "source": [
    "import pandas as pd"
   ]
  },
  {
   "cell_type": "code",
   "execution_count": 11,
   "id": "ea4baa43",
   "metadata": {},
   "outputs": [
    {
     "name": "stdout",
     "output_type": "stream",
     "text": [
      "Amount of unique games: 74105\n",
      "--------------------------------------------------\n",
      "Types of values in each dataframe:\n",
      "Game_metadata:\n",
      "gameid         object\n",
      "date           object\n",
      "league         object\n",
      "playoffs        int64\n",
      "patch         float64\n",
      "gamelength      int64\n",
      "dtype: object\n",
      "\n",
      "game_player_stats\n",
      "gameid                object\n",
      "playerid              object\n",
      "teamid                object\n",
      "side                  object\n",
      "position              object\n",
      "champion              object\n",
      "result                 int64\n",
      "kills                  int64\n",
      "deaths                 int64\n",
      "assists                int64\n",
      "damagetochampions    float64\n",
      "visionscore          float64\n",
      "earnedgold           float64\n",
      "total cs             float64\n",
      "golddiffat15         float64\n",
      "csdiffat15           float64\n",
      "xpdiffat15           float64\n",
      "dtype: object\n",
      "--------------------------------------------------\n"
     ]
    }
   ],
   "source": [
    "game_metadata = pd.read_csv('./out/game_metadata.csv')\n",
    "game_player_stats = pd.read_csv('./out/game_player_stats.csv')\n",
    "\n",
    "unique_games = game_metadata['gameid'].size\n",
    "print(f'Amount of unique games: {unique_games}')\n",
    "print(50*'-')\n",
    "\n",
    "print('Types of values in each dataframe:')\n",
    "print('Game_metadata:')\n",
    "print(game_metadata.dtypes)\n",
    "\n",
    "print('')\n",
    "\n",
    "print('game_player_stats')\n",
    "print(game_player_stats.dtypes)\n",
    "print(50*'-')"
   ]
  }
 ],
 "metadata": {
  "kernelspec": {
   "display_name": "base",
   "language": "python",
   "name": "python3"
  },
  "language_info": {
   "codemirror_mode": {
    "name": "ipython",
    "version": 3
   },
   "file_extension": ".py",
   "mimetype": "text/x-python",
   "name": "python",
   "nbconvert_exporter": "python",
   "pygments_lexer": "ipython3",
   "version": "3.12.7"
  }
 },
 "nbformat": 4,
 "nbformat_minor": 5
}
