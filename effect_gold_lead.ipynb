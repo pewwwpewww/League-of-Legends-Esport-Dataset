{
 "cells": [
  {
   "cell_type": "code",
   "execution_count": 46,
   "id": "281af928",
   "metadata": {},
   "outputs": [],
   "source": [
    "import pandas as pd \n",
    "from dowhy import CausalModel\n",
    "import matplotlib.pyplot as plt"
   ]
  },
  {
   "cell_type": "code",
   "execution_count": 47,
   "id": "c46af314",
   "metadata": {},
   "outputs": [],
   "source": [
    "matches_df = pd.read_csv('./out/matches_df.csv')"
   ]
  },
  {
   "cell_type": "markdown",
   "id": "688bb69a",
   "metadata": {},
   "source": [
    "We want to transform matches_df into a dataframe where each row represents one game for one team so that we can analyse the effect of goldlead at 15 has on team as an indiviual not as Team_A and team_B further interesting to plot the increase in win prob given that there is a gold lead "
   ]
  },
  {
   "cell_type": "markdown",
   "id": "8c59662f",
   "metadata": {},
   "source": [
    "Right now the large lead is defined as a one thousand goldlead at minute 15 but with one line of code one can replace that as seen later "
   ]
  },
  {
   "cell_type": "code",
   "execution_count": 48,
   "id": "6aed08d1",
   "metadata": {},
   "outputs": [
    {
     "name": "stdout",
     "output_type": "stream",
     "text": [
      "Unnamed: 0.1             int64\n",
      "Unnamed: 0               int64\n",
      "gameid                  object\n",
      "date                    object\n",
      "league                  object\n",
      "playoffs                 int64\n",
      "patch                  float64\n",
      "gamelength               int64\n",
      "days_since_patch         int64\n",
      "team_a                  object\n",
      "team_b                  object\n",
      "winner                  object\n",
      "recent_patch             int64\n",
      "elo_a                  float64\n",
      "elo_b                  float64\n",
      "winstreak_a            float64\n",
      "winstreak_b            float64\n",
      "elo_diff               float64\n",
      "underdog                object\n",
      "underdog_side_adv        int64\n",
      "upset                    int64\n",
      "vision_score_team_A    float64\n",
      "vision_score_team_B    float64\n",
      "team_kills_team_A      float64\n",
      "team_kills_team_B      float64\n",
      "abs_golddiff_15        float64\n",
      "golddiffat15           float64\n",
      "total_kills            float64\n",
      "vision_diff            float64\n",
      "large_lead_A             int64\n",
      "large_lead_B             int64\n",
      "resultA                  int64\n",
      "resultB                  int64\n",
      "win_prob_A             float64\n",
      "win_prob_B             float64\n",
      "underdog_A                bool\n",
      "underdog_B                bool\n",
      "dtype: object\n"
     ]
    }
   ],
   "source": [
    "print(matches_df.dtypes)"
   ]
  },
  {
   "cell_type": "code",
   "execution_count": 49,
   "id": "afacabbb",
   "metadata": {},
   "outputs": [],
   "source": [
    "#We need to define columns that would be identical for each team \n",
    "common_cols = ['gameid', 'date', 'league', 'patch', 'playoffs', 'gamelength', \n",
    "               'days_since_patch', 'golddiffat15', 'recent_patch']\n",
    "\n",
    "#Now for team-specific columns \n",
    "team_cols = {\n",
    "    'blue': {\n",
    "        'teamid': 'team_a',\n",
    "        'result': 'resultA',\n",
    "        'win_prob': 'win_prob_A',\n",
    "        'large_lead': 'large_lead_A',\n",
    "        'underdog': 'underdog_A',\n",
    "        'elo': 'elo_a',\n",
    "        'kills' : 'team_kills_team_A',\n",
    "        'winstreak': 'winstreak_a',\n",
    "        'visionscore': 'vision_score_team_A'\n",
    "    },\n",
    "    'red': {\n",
    "        'teamid': 'team_b',\n",
    "        'result': 'resultB',\n",
    "        'win_prob': 'win_prob_B',\n",
    "        'large_lead': 'large_lead_B',\n",
    "        'underdog': 'underdog_B',\n",
    "        'elo': 'elo_b',\n",
    "        'kills' : 'team_kills_team_B',\n",
    "        'winstreak': 'winstreak_b',\n",
    "        'visionscore': 'vision_score_team_B'\n",
    "    }\n",
    "}\n",
    "\n",
    "long_dfs = []\n",
    "for side, mapping in team_cols.items():\n",
    "    df = matches_df[common_cols + list(mapping.values())].copy()\n",
    "    df = df.rename(columns={\n",
    "        mapping['teamid']: 'teamid',\n",
    "        mapping['result']: 'result',\n",
    "        mapping['win_prob']: 'win_prob',\n",
    "        mapping['large_lead']: 'large_lead',\n",
    "        mapping['underdog']: 'underdog',\n",
    "        mapping['elo']: 'elo',\n",
    "        mapping['winstreak']: 'winstreak',\n",
    "        mapping['kills']: 'kills',\n",
    "        mapping['visionscore']: 'visionscore'\n",
    "    })\n",
    "    df['side'] = side  # 'A' or 'B'\n",
    "    long_dfs.append(df)\n",
    "\n",
    "long_df = pd.concat(long_dfs, ignore_index=True)\n",
    "\n",
    "long_df['golddiffat15'] = long_df.apply(\n",
    "    lambda row: row['golddiffat15'] if row['side'] == 'blue' else -row['golddiffat15'],\n",
    "    axis=1\n",
    ")\n",
    "long_df['side_adv'] = long_df.apply(\n",
    "    lambda row: 1 if row['side'] == 'blue' else 0, \n",
    "    axis=1\n",
    ")\n",
    "# Then redefine large_lead based on the updated golddiffat15\n",
    "long_df['large_lead'] = (long_df['golddiffat15'] > 1000).astype(int)"
   ]
  },
  {
   "cell_type": "code",
   "execution_count": 50,
   "id": "57efb18a",
   "metadata": {},
   "outputs": [
    {
     "name": "stdout",
     "output_type": "stream",
     "text": [
      "gameid               object\n",
      "date                 object\n",
      "league               object\n",
      "patch               float64\n",
      "playoffs              int64\n",
      "gamelength            int64\n",
      "days_since_patch      int64\n",
      "golddiffat15        float64\n",
      "recent_patch          int64\n",
      "teamid               object\n",
      "result                int64\n",
      "win_prob            float64\n",
      "large_lead            int64\n",
      "underdog               bool\n",
      "elo                 float64\n",
      "kills               float64\n",
      "winstreak           float64\n",
      "visionscore         float64\n",
      "side                 object\n",
      "side_adv              int64\n",
      "dtype: object\n"
     ]
    }
   ],
   "source": [
    "print(long_df.dtypes)"
   ]
  },
  {
   "cell_type": "code",
   "execution_count": 51,
   "id": "5ce20393",
   "metadata": {},
   "outputs": [],
   "source": [
    "def calculate_gold_lead_effect(causal_graph, gold_lead_threshold):\n",
    "    #First we redefine the gold lead in the dataset\n",
    "    long_df['large_lead'] = (long_df['golddiffat15'] > gold_lead_threshold).astype(int)\n",
    "\n",
    "    #Then we run the estimation for said gold_lead_threshold with the given causal_graph\n",
    "    #1. Build the model using the causal graph given\n",
    "    model = CausalModel(\n",
    "        data=long_df,\n",
    "        treatment='large_lead',\n",
    "        outcome='result',\n",
    "        graph=causal_graph\n",
    "    )\n",
    "\n",
    "    #2. Use identification to identifiy the estimand\n",
    "    identified_estimand = model.identify_effect()\n",
    "\n",
    "    #3. Estimation (For now just using linear regression)\n",
    "    estimate = model.estimate_effect(\n",
    "        identified_estimand,\n",
    "        method_name='backdoor.linear_regression'\n",
    "    )\n",
    "\n",
    "    #4. Return the value of the estimation \n",
    "    return estimate.value\n"
   ]
  },
  {
   "cell_type": "code",
   "execution_count": 52,
   "id": "70c770b6",
   "metadata": {},
   "outputs": [
    {
     "name": "stdout",
     "output_type": "stream",
     "text": [
      "Estimated effect of a 500 large gold lead: 0.2444295585212266\n",
      "Estimated effect of a 1000 large gold lead: 0.2643644809725657\n",
      "Estimated effect of a 1500 large gold lead: 0.2898683955357769\n",
      "Estimated effect of a 2000 large gold lead: 0.31225018322504017\n",
      "Estimated effect of a 2500 large gold lead: 0.3505621574188964\n",
      "Estimated effect of a 3000 large gold lead: 0.40142555335380903\n",
      "Estimated effect of a 3500 large gold lead: 0.41345632092233753\n",
      "Estimated effect of a 4000 large gold lead: 0.3990902743228734\n",
      "Estimated effect of a 4500 large gold lead: 0.3856434455734918\n"
     ]
    }
   ],
   "source": [
    "#Lets say we want to run over multiple gold leads to later model them \n",
    "gold_leads = [500, 1000, 1500, 2000, 2500, 3000, 3500, 4000, 4500]\n",
    "effect_gold_lead = []\n",
    "\n",
    "causal_graph = '''\n",
    "digraph {\n",
    "    large_lead -> result;\n",
    "    win_prob -> large_lead;\n",
    "    win_prob -> result;\n",
    "    side_adv -> large_lead;\n",
    "    side_adv -> result\n",
    "}\n",
    "'''\n",
    "\n",
    "for threshold in gold_leads:\n",
    "    retval = calculate_gold_lead_effect(causal_graph, threshold)\n",
    "    effect_gold_lead.append(retval)\n",
    "\n",
    "for i in range(len(effect_gold_lead)):\n",
    "    print(f'Estimated effect of a {gold_leads[i]} large gold lead: {effect_gold_lead[i]}')"
   ]
  },
  {
   "cell_type": "code",
   "execution_count": 53,
   "id": "e47e701c",
   "metadata": {},
   "outputs": [
    {
     "name": "stdout",
     "output_type": "stream",
     "text": [
      "Causal Estimate causal effect of one unit in the golddiffat15 on the result: 0.0001340584142000001\n",
      "For example this would be the estimated effect when we have a golddiffat15 of 1000: 0.1340584142000001\n"
     ]
    }
   ],
   "source": [
    "causal_graph = '''\n",
    "digraph {\n",
    "    golddiffat15 -> result;\n",
    "    win_prob -> golddiffat15;\n",
    "    win_prob -> result;\n",
    "    side_adv -> golddiffat15;\n",
    "    side_adv -> result\n",
    "}\n",
    "'''\n",
    "\n",
    "# Build causal model directly on matches_df\n",
    "model = CausalModel(\n",
    "    data=long_df,\n",
    "    treatment='golddiffat15',\n",
    "    outcome='result',\n",
    "    graph=causal_graph\n",
    ")\n",
    "\n",
    "# Identify effect\n",
    "identified_estimand = model.identify_effect()\n",
    "\n",
    "# Estimate causal effect using linear regression (backdoor)\n",
    "estimate = model.estimate_effect(\n",
    "    identified_estimand,\n",
    "    method_name='backdoor.linear_regression'\n",
    ")\n",
    "\n",
    "unit_effect = estimate.value\n",
    "print(\"Causal Estimate causal effect of one unit in the golddiffat15 on the result:\", estimate.value)\n",
    "print(f\"For example this would be the estimated effect when we have a golddiffat15 of 1000: {estimate.value * 1000}\")\n",
    "#print(estimate)"
   ]
  },
  {
   "cell_type": "markdown",
   "id": "0145f9e5",
   "metadata": {},
   "source": [
    "Now we want to plot the causal effect as measured by one unit in the golddiffat15 and also as measured by the an amount of large_leads "
   ]
  },
  {
   "cell_type": "code",
   "execution_count": 54,
   "id": "4f8ac2bc",
   "metadata": {},
   "outputs": [
    {
     "data": {
      "image/png": "[encoded data removed]",
      "text/plain": [
       "<Figure size 800x500 with 1 Axes>"
      ]
     },
     "metadata": {},
     "output_type": "display_data"
    }
   ],
   "source": [
    "#Get the effects measured by the unit effect from golddiffat15\n",
    "continuous_effects = [unit_effect * g for g in gold_leads]\n",
    "\n",
    "plt.figure(figsize=(8,5))\n",
    "plt.plot(gold_leads, continuous_effects, marker='o', label='Continuous golddiff effect')\n",
    "plt.plot(gold_leads, effect_gold_lead, marker='s', label='Binary large lead effect')\n",
    "\n",
    "plt.xlabel('Gold difference at 15 min')\n",
    "plt.ylabel('Estimated causal effect on win probability')\n",
    "plt.title('Causal effect of gold lead on match outcome')\n",
    "plt.legend()\n",
    "plt.grid(True)\n",
    "plt.show()"
   ]
  }
 ],
 "metadata": {
  "kernelspec": {
   "display_name": "Python 3",
   "language": "python",
   "name": "python3"
  },
  "language_info": {
   "codemirror_mode": {
    "name": "ipython",
    "version": 3
   },
   "file_extension": ".py",
   "mimetype": "text/x-python",
   "name": "python",
   "nbconvert_exporter": "python",
   "pygments_lexer": "ipython3",
   "version": "3.10.5"
  }
 },
 "nbformat": 4,
 "nbformat_minor": 5
}
