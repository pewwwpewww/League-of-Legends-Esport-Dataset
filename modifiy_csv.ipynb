{
 "cells": [
  {
   "cell_type": "code",
   "execution_count": 45,
   "id": "53d144d6",
   "metadata": {},
   "outputs": [],
   "source": [
    "import pandas as pd\n",
    "\n",
    "game_metadata = pd.read_csv('./out/game_metadata.csv')\n",
    "game_player_stats = pd.read_csv('./out/game_player_stats.csv')"
   ]
  },
  {
   "cell_type": "markdown",
   "id": "e9596d90",
   "metadata": {},
   "source": [
    "First of we want a elo rating of each team before each major tournament for that we first sort all matches chronologically"
   ]
  },
  {
   "cell_type": "code",
   "execution_count": 46,
   "id": "b6f379a0",
   "metadata": {},
   "outputs": [
    {
     "name": "stdout",
     "output_type": "stream",
     "text": [
      "gameid                object\n",
      "date          datetime64[ns]\n",
      "league                object\n",
      "playoffs               int64\n",
      "patch                float64\n",
      "gamelength             int64\n",
      "dtype: object\n"
     ]
    }
   ],
   "source": [
    "#Convert date to datetime\n",
    "game_metadata['date'] = pd.to_datetime(game_metadata['date'])\n",
    "print(game_metadata.dtypes)"
   ]
  },
  {
   "cell_type": "code",
   "execution_count": 47,
   "id": "7bf659ba",
   "metadata": {},
   "outputs": [],
   "source": [
    "#Actually sort the matches by date\n",
    "game_metadata = game_metadata.sort_values(by='date').reset_index(drop=True)"
   ]
  },
  {
   "cell_type": "markdown",
   "id": "52e6ac05",
   "metadata": {},
   "source": [
    "Note: Import the team_name_map and player_name_map for now we can just use the team through id but would be useful when modelling/graphing it to match it to the teams"
   ]
  },
  {
   "cell_type": "markdown",
   "id": "9538b06b",
   "metadata": {},
   "source": [
    "Now we need to calculate the elo of each team and save a snapshot of said elo before each tournament and each patch, the idea is as follows: \n",
    "1. Initialize the elo for each team with 1500\n",
    "2. Create a list of major tournament start date (We will be looking at Worlds, MSI and First Stand for now)\n",
    "3. Iterate over the matches: \n",
    "    4. Check whether the match is at a major tournament\n",
    "    5. If yes\n",
    "        6. Take a 'snapshot' of the whole elo ratings before said match\n",
    "        7. Save it in a map where the key is the date of the first match of that tournament e.g. the date of the current match\n",
    "    8. Update the elo ratings of the two teams using the result of the match\n",
    "9. END\n",
    "\n",
    "After we have a map of Elo rating lists for each team before each tournament "
   ]
  },
  {
   "cell_type": "code",
   "execution_count": 48,
   "id": "717b1784",
   "metadata": {},
   "outputs": [
    {
     "name": "stdout",
     "output_type": "stream",
     "text": [
      "1849\n"
     ]
    }
   ],
   "source": [
    "#First we create a dataframe containing the elo of each \n",
    "all_teams = game_player_stats['teamid'].unique()\n",
    "print(len(all_teams))\n",
    "\n",
    "#Creates a map of elo ratings where we start at 1500 for each team\n",
    "elo_ratings = {teamid: 1500 for teamid in all_teams}"
   ]
  },
  {
   "cell_type": "code",
   "execution_count": 49,
   "id": "3540781d",
   "metadata": {},
   "outputs": [],
   "source": [
    "#Now we need to implement a function that calculates the Elo for each team after a match\n",
    "#For now we use the elo algorithm see original paper also cite it\n",
    "#Other canditates would be glicko2 or trueskill\n",
    "\n",
    "#This function returns the updated ratings for each player in our case teams\n",
    "#The result_A is modelled out of perspective of A thus 0 means A lost and B won and 1 means A won and B lost\n",
    "#Using original formulas for expected outcome and update formula\n",
    "def update_elo(rating_A, rating_B, result_A, k=32):\n",
    "    #Calculate win probability for each team, e.g. the expected outcome\n",
    "    expected_outcome_A = 1 / ( 1+10 **((rating_B-rating_A) / 400) )\n",
    "    expected_outcome_B = 1- expected_outcome_A\n",
    "\n",
    "    #Update the elo ratings\n",
    "    new_rating_A = rating_A + k*(result_A - expected_outcome_A)\n",
    "    new_rating_B = rating_B + k*((1 - result_A) - expected_outcome_B)\n",
    "\n",
    "    return new_rating_A, new_rating_B"
   ]
  },
  {
   "cell_type": "code",
   "execution_count": 50,
   "id": "aeea6294",
   "metadata": {},
   "outputs": [],
   "source": [
    "#Essentially we dont need to create a list for each major tournament since we can for each game look at\n",
    "#which league that game was played and if it is either 'MSI', 'WLDs' and 'FST' we know we arrived at a major tournament\n",
    "#For now a lot of unneccessary teams since we only look at tier 1 events but have tier 2 leagues included but doesnt matter\n",
    "\n",
    "tournament_list = ['MSI', 'WLDs', 'FST']"
   ]
  },
  {
   "cell_type": "code",
   "execution_count": null,
   "id": "80339b51",
   "metadata": {},
   "outputs": [
    {
     "name": "stdout",
     "output_type": "stream",
     "text": [
      "gameid                object\n",
      "date          datetime64[ns]\n",
      "league                object\n",
      "playoffs               int64\n",
      "patch                float64\n",
      "gamelength             int64\n",
      "dtype: object\n"
     ]
    }
   ],
   "source": []
  },
  {
   "cell_type": "code",
   "execution_count": 53,
   "id": "7cb261a4",
   "metadata": {},
   "outputs": [],
   "source": [
    "#Create a map that saves the elo snapshot\n",
    "elo_snapshot = {}   #Key is the date of the first match of that tournament e.g the first row that has said tournament\n",
    "\n",
    "#Now we iterate over the matches\n",
    "for idx, row in game_metadata.iterrows():\n",
    "    current_league = row['league']\n",
    "\n",
    "    #Copy the a snapshot elo rating if current match is of a major tournament\n",
    "    if current_league in tournament_list:\n",
    "        elo_snapshot[row['date']] = elo_ratings.copy()\n",
    "    \n",
    "    #Now update the elo of each team\n",
    "    #First get both teams\n",
    "    game_entries = game_player_stats[game_player_stats['gameid'] == row['gameid']]\n",
    "    assert len(game_entries) == 10\n",
    "    teams_in_game = game_entries['teamid'].unique()\n",
    "    team_A, team_B = teams_in_game\n",
    "\n",
    "    #Now fetch the result \n",
    "    results_A = game_entries[game_entries['teamid'] == team_A]\n",
    "    result_A = results_A['result'].unique()[0]\n",
    "\n",
    "    #Finally actually update the ratings\n",
    "    new_rating_A, new_rating_B = update_elo(elo_ratings[team_A], elo_ratings[team_B], result_A)\n",
    "    elo_ratings[team_A] = new_rating_A\n",
    "    elo_ratings[team_B] = new_rating_B\n"
   ]
  },
  {
   "cell_type": "code",
   "execution_count": 55,
   "id": "279ac350",
   "metadata": {},
   "outputs": [],
   "source": [
    "#Save the data \n",
    "import pickle \n",
    "\n",
    "with open('./out/elo_ratings.pkl', 'wb') as f:\n",
    "    pickle.dump(elo_ratings, f)\n",
    "\n",
    "with open('./out/elo_snapshot.pkl', 'wb') as f:\n",
    "    pickle.dump(elo_snapshot, f)"
   ]
  }
 ],
 "metadata": {
  "kernelspec": {
   "display_name": "base",
   "language": "python",
   "name": "python3"
  },
  "language_info": {
   "codemirror_mode": {
    "name": "ipython",
    "version": 3
   },
   "file_extension": ".py",
   "mimetype": "text/x-python",
   "name": "python",
   "nbconvert_exporter": "python",
   "pygments_lexer": "ipython3",
   "version": "3.12.3"
  }
 },
 "nbformat": 4,
 "nbformat_minor": 5
}
